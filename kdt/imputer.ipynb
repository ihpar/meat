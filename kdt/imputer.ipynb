{
 "cells": [
  {
   "cell_type": "code",
   "execution_count": 1,
   "metadata": {},
   "outputs": [],
   "source": [
    "import pickle \n",
    "import numpy as np\n",
    "import pandas as pd\n",
    "from classes_colors import *\n",
    "import matplotlib.pyplot as plt"
   ]
  },
  {
   "cell_type": "code",
   "execution_count": 2,
   "metadata": {},
   "outputs": [],
   "source": [
    "with open(\"sensor_labels.pkl\", \"rb\") as f:\n",
    "    sensor_labels = pickle.load(f)\n",
    "\n",
    "with open(\"sensor_data_w_missing_vals.pkl\", \"rb\") as f:\n",
    "    sensor_data = pickle.load(f)"
   ]
  },
  {
   "cell_type": "code",
   "execution_count": 16,
   "metadata": {},
   "outputs": [],
   "source": [
    "def build_comparison_df(sensor_data, day, mat, sensor):\n",
    "    data_lengths = []\n",
    "    for heater_idx in sensor_data[f\"day{day}\"][f\"mat{mat}\"][sensor]:\n",
    "        heater_data_len = sensor_data[f\"day{day}\"][f\"mat{mat}\"][sensor][heater_idx].shape[0]\n",
    "        data_lengths.append(heater_data_len)\n",
    "    \n",
    "    min_len = min(data_lengths)\n",
    "    heater_dict = {}\n",
    "    for heater_idx in sensor_data[f\"day{day}\"][f\"mat{mat}\"][sensor]:\n",
    "        heater_dates = sensor_data[f\"day{day}\"][f\"mat{mat}\"][sensor][heater_idx][\"Date\"].to_numpy()\n",
    "        heater_data_len = len(heater_dates)\n",
    "        if heater_data_len > min_len:\n",
    "            heater_dates = heater_dates[:min_len]\n",
    "        heater_dict[heater_idx] = heater_dates\n",
    "    \n",
    "    for heater_idx in range(1, 10):\n",
    "        diff_seconds = (heater_dict[0] - heater_dict[heater_idx]).astype(\"timedelta64[s]\").astype(np.int32)\n",
    "        heater_dict[f\"d 0-{heater_idx}\"] = diff_seconds\n",
    "    \n",
    "    df = pd.DataFrame(heater_dict)\n",
    "    return df "
   ]
  },
  {
   "cell_type": "code",
   "execution_count": 96,
   "metadata": {},
   "outputs": [],
   "source": [
    "def impute_data_mean(df, after):\n",
    "    df_copy = df.copy()\n",
    "    line = df_copy.iloc[after:after+2].mean()\n",
    "\n",
    "    line[\"Sensor Index\"] = int(line[\"Sensor Index\"])\n",
    "    line[\"Sensor ID\"] = int(line[\"Sensor ID\"])\n",
    "    line[\"Time Since PowerOn\"] = int(line[\"Time Since PowerOn\"])\n",
    "    line[\"Real time clock\"] = int(line[\"Real time clock\"])\n",
    "    line[\"Heater Profile Step Index\"] = int(line[\"Heater Profile Step Index\"])\n",
    "    line[\"Scanning Mode Enabled\"] = int(line[\"Scanning Mode Enabled\"])\n",
    "    line[\"Scanning Cycle Index\"] = int(line[\"Scanning Cycle Index\"])\n",
    "    line[\"Label Tag\"] = int(line[\"Label Tag\"])\n",
    "    line[\"Error Code\"] = int(line[\"Error Code\"])\n",
    "    line[\"Date\"] = line[\"Date\"].floor(\"S\")\n",
    "\n",
    "    index = df_copy.iloc[after:after+2].index\n",
    "    index = int((index[0] + index[1]) / 2)\n",
    "    df_copy.loc[index] = line\n",
    "    df_copy.sort_index(inplace=True)\n",
    "    return df_copy"
   ]
  },
  {
   "cell_type": "code",
   "execution_count": 115,
   "metadata": {},
   "outputs": [],
   "source": [
    "day = 1\n",
    "matrix = 1\n",
    "for i in range(8):\n",
    "    df = build_comparison_df(sensor_data, day, matrix, i)\n",
    "    df.to_excel(f\"d{day}_m{matrix}_s{i}_diff.xlsx\")"
   ]
  },
  {
   "cell_type": "code",
   "execution_count": null,
   "metadata": {},
   "outputs": [],
   "source": [
    "sensor = 3\n",
    "heater = 2\n",
    "after = 13\n",
    "df_copy = impute_data_mean(sensor_data[f\"day{day}\"][f\"mat{matrix}\"][sensor][heater], first)\n",
    "sensor_data[f\"day{1}\"][f\"mat{1}\"][sensor][heater] = df_copy.copy()"
   ]
  },
  {
   "cell_type": "code",
   "execution_count": 114,
   "metadata": {},
   "outputs": [],
   "source": [
    "with open(\"sensor_data_imputed.pkl\", \"wb\") as f:\n",
    "    pickle.dump(sensor_data, f)"
   ]
  }
 ],
 "metadata": {
  "kernelspec": {
   "display_name": "mlenv",
   "language": "python",
   "name": "python3"
  },
  "language_info": {
   "codemirror_mode": {
    "name": "ipython",
    "version": 3
   },
   "file_extension": ".py",
   "mimetype": "text/x-python",
   "name": "python",
   "nbconvert_exporter": "python",
   "pygments_lexer": "ipython3",
   "version": "3.12.2"
  }
 },
 "nbformat": 4,
 "nbformat_minor": 2
}
