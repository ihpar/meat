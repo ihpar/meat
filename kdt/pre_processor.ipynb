{
 "cells": [
  {
   "cell_type": "code",
   "execution_count": 10,
   "metadata": {},
   "outputs": [],
   "source": [
    "import pickle \n",
    "from classes_colors import *"
   ]
  },
  {
   "cell_type": "code",
   "execution_count": 11,
   "metadata": {},
   "outputs": [],
   "source": [
    "with open(\"sensor_labels.pkl\", \"rb\") as f:\n",
    "    sensor_labels = pickle.load(f)\n",
    "\n",
    "with open(\"sensor_data.pkl\", \"rb\") as f:\n",
    "    sensor_data = pickle.load(f)"
   ]
  },
  {
   "cell_type": "code",
   "execution_count": 15,
   "metadata": {},
   "outputs": [],
   "source": [
    "data_d1_m1_s0_h0 = sensor_data[\"day1\"][\"mat1\"][0][0]"
   ]
  },
  {
   "cell_type": "code",
   "execution_count": 16,
   "metadata": {},
   "outputs": [],
   "source": [
    "label_d1_m1 = sensor_labels[\"day1\"][\"mat1\"]"
   ]
  },
  {
   "cell_type": "code",
   "execution_count": 17,
   "metadata": {},
   "outputs": [
    {
     "data": {
      "text/plain": [
       "[{'start': '2024-09-23 14:38:00', 'end': '2024-09-23 14:52:00', 'label': 0},\n",
       " {'start': '2024-09-23 14:54:00', 'end': '2024-09-23 15:02:00', 'label': 3},\n",
       " {'start': '2024-09-23 15:03:00', 'end': '2024-09-23 15:21:00', 'label': 2},\n",
       " {'start': '2024-09-23 15:23:00', 'end': '2024-09-23 15:32:00', 'label': 3},\n",
       " {'start': '2024-09-23 15:34:00', 'end': '2024-09-23 15:51:00', 'label': 1},\n",
       " {'start': '2024-09-23 15:54:00', 'end': '2024-09-23 16:01:00', 'label': 3}]"
      ]
     },
     "execution_count": 17,
     "metadata": {},
     "output_type": "execute_result"
    }
   ],
   "source": [
    "label_d1_m1"
   ]
  },
  {
   "cell_type": "code",
   "execution_count": null,
   "metadata": {},
   "outputs": [],
   "source": []
  }
 ],
 "metadata": {
  "kernelspec": {
   "display_name": "mlenv",
   "language": "python",
   "name": "python3"
  },
  "language_info": {
   "codemirror_mode": {
    "name": "ipython",
    "version": 3
   },
   "file_extension": ".py",
   "mimetype": "text/x-python",
   "name": "python",
   "nbconvert_exporter": "python",
   "pygments_lexer": "ipython3",
   "version": "3.12.2"
  }
 },
 "nbformat": 4,
 "nbformat_minor": 2
}
