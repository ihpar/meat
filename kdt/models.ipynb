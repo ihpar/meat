{
 "cells": [
  {
   "cell_type": "code",
   "execution_count": 1,
   "metadata": {},
   "outputs": [],
   "source": [
    "import pickle\n",
    "from dataset import Dataset\n",
    "\n",
    "from sklearn import metrics\n",
    "from sklearn.preprocessing import StandardScaler\n",
    "from sklearn.model_selection import train_test_split\n",
    "\n",
    "from sklearn.svm import SVC\n",
    "from xgboost import XGBClassifier\n",
    "from sklearn.naive_bayes import GaussianNB\n",
    "from sklearn.ensemble import BaggingClassifier\n",
    "from sklearn.neural_network import MLPClassifier\n",
    "from sklearn.linear_model import LogisticRegression\n",
    "from sklearn.tree import DecisionTreeClassifier, ExtraTreeClassifier"
   ]
  },
  {
   "cell_type": "code",
   "execution_count": 2,
   "metadata": {},
   "outputs": [],
   "source": [
    "with open(\"sensor_data_filtered.pkl\", \"rb\") as f:\n",
    "    sensor_data = pickle.load(f)\n",
    "\n",
    "with open(\"sensor_labels.pkl\", \"rb\") as f:\n",
    "    labels = pickle.load(f)\n",
    "\n",
    "with open(\"interpolation_functions.pkl\", \"rb\") as f:\n",
    "    interp_funcs = pickle.load(f)"
   ]
  },
  {
   "cell_type": "code",
   "execution_count": null,
   "metadata": {},
   "outputs": [],
   "source": [
    "day = 3\n",
    "mat = 2\n",
    "for sensor in range(8):\n",
    "    print(f\"Day {day}, Mat {mat}, Sensor {sensor}\")\n",
    "    dataset = Dataset(sensor_data, labels, interp_funcs)\n",
    "    X, y = dataset.get_sensor_cls(day, mat, sensor)\n",
    "    X_train, X_test, y_train, y_test = train_test_split(\n",
    "        X, y, test_size=0.15, random_state=42)\n",
    "\n",
    "    clf = DecisionTreeClassifier(criterion=\"entropy\", max_depth=3)\n",
    "    clf = clf.fit(X_train, y_train)\n",
    "    y_pred = clf.predict(X_test)\n",
    "    accuracy = metrics.accuracy_score(y_test, y_pred)\n",
    "    print(f\"Dec. Tree: {accuracy:.3f}\")\n",
    "\n",
    "    clf = GaussianNB()\n",
    "    clf = clf.fit(X_train, y_train)\n",
    "    y_pred = clf.predict(X_test)\n",
    "    accuracy = metrics.accuracy_score(y_test, y_pred)\n",
    "    print(f\"GaussianNB: {accuracy:.3f}\")\n",
    "\n",
    "    extra_tree = ExtraTreeClassifier(random_state=0)\n",
    "    clf = BaggingClassifier(extra_tree, random_state=0)\n",
    "    clf = clf.fit(X_train, y_train)\n",
    "    y_pred = clf.predict(X_test)\n",
    "    accuracy = metrics.accuracy_score(y_test, y_pred)\n",
    "    print(f\"BaggingTree: {accuracy:.3f}\")\n",
    "\n",
    "    clf = SVC(kernel=\"linear\")\n",
    "    clf = clf.fit(X_train, y_train)\n",
    "    y_pred = clf.predict(X_test)\n",
    "    accuracy = metrics.accuracy_score(y_test, y_pred)\n",
    "    print(f\"SVM: {accuracy:.3f}\")\n",
    "\n",
    "    scaler = StandardScaler()\n",
    "    X_train_scaled = scaler.fit_transform(X_train)\n",
    "    X_test_scaled = scaler.transform(X_test)\n",
    "    clf = LogisticRegression(max_iter=2000)\n",
    "    clf = clf.fit(X_train_scaled, y_train)\n",
    "    y_pred = clf.predict(X_test_scaled)\n",
    "    accuracy = metrics.accuracy_score(y_test, y_pred)\n",
    "    print(f\"LogReg: {accuracy:.3f}\")\n",
    "\n",
    "    scaler = StandardScaler()\n",
    "    X_train_scaled = scaler.fit_transform(X_train)\n",
    "    X_test_scaled = scaler.transform(X_test)\n",
    "    clf = MLPClassifier(max_iter=2000)\n",
    "    clf = clf.fit(X_train_scaled, y_train)\n",
    "    y_pred = clf.predict(X_test_scaled)\n",
    "    accuracy = metrics.accuracy_score(y_test, y_pred)\n",
    "    print(f\"MLP: {accuracy:.3f}\")\n",
    "\n",
    "    clf = XGBClassifier(objective=\"multi:softprob\")\n",
    "    clf = clf.fit(X_train, y_train)\n",
    "    y_pred = clf.predict(X_test)\n",
    "    accuracy = metrics.accuracy_score(y_test, y_pred)\n",
    "    print(f\"XGB: {accuracy:.3f}\")\n",
    "\n",
    "    print(\"-\" * 40)"
   ]
  },
  {
   "cell_type": "code",
   "execution_count": null,
   "metadata": {},
   "outputs": [],
   "source": []
  }
 ],
 "metadata": {
  "kernelspec": {
   "display_name": "mlenv",
   "language": "python",
   "name": "python3"
  },
  "language_info": {
   "codemirror_mode": {
    "name": "ipython",
    "version": 3
   },
   "file_extension": ".py",
   "mimetype": "text/x-python",
   "name": "python",
   "nbconvert_exporter": "python",
   "pygments_lexer": "ipython3",
   "version": "3.12.2"
  }
 },
 "nbformat": 4,
 "nbformat_minor": 2
}
