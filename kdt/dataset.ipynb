{
 "cells": [
  {
   "cell_type": "code",
   "execution_count": 1,
   "metadata": {},
   "outputs": [],
   "source": [
    "import pickle\n",
    "from dataset import Dataset"
   ]
  },
  {
   "cell_type": "code",
   "execution_count": 2,
   "metadata": {},
   "outputs": [],
   "source": [
    "with open(\"sensor_data_filtered.pkl\", \"rb\") as f:\n",
    "    sensor_data = pickle.load(f)\n",
    "\n",
    "with open(\"sensor_labels.pkl\", \"rb\") as f:\n",
    "    labels = pickle.load(f)\n",
    "\n",
    "with open(\"interpolation_functions.pkl\", \"rb\") as f:\n",
    "    interp_funcs = pickle.load(f)"
   ]
  },
  {
   "cell_type": "code",
   "execution_count": 3,
   "metadata": {},
   "outputs": [
    {
     "name": "stdout",
     "output_type": "stream",
     "text": [
      "(323, 10) (323,)\n"
     ]
    }
   ],
   "source": [
    "dataset = Dataset(sensor_data, labels, interp_funcs)\n",
    "X, y = dataset.get_sensor_cls(1, 1, 0)\n",
    "print(X.shape, y.shape)"
   ]
  },
  {
   "cell_type": "code",
   "execution_count": null,
   "metadata": {},
   "outputs": [],
   "source": []
  }
 ],
 "metadata": {
  "kernelspec": {
   "display_name": "mlenv",
   "language": "python",
   "name": "python3"
  },
  "language_info": {
   "codemirror_mode": {
    "name": "ipython",
    "version": 3
   },
   "file_extension": ".py",
   "mimetype": "text/x-python",
   "name": "python",
   "nbconvert_exporter": "python",
   "pygments_lexer": "ipython3",
   "version": "3.12.2"
  }
 },
 "nbformat": 4,
 "nbformat_minor": 2
}
